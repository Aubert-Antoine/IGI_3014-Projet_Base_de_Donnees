{
 "cells": [
  {
   "cell_type": "markdown",
   "source": [
    "# Modification du CSV :\n",
    "**On ajoute une colonne dans le csv** tel quel `geo_shape` n'est pas exploitable.\n",
    "On ajoute une colonne `forme_geo` qui est une interpretation de `geo_shape`."
   ],
   "metadata": {
    "collapsed": false
   }
  },
  {
   "cell_type": "code",
   "execution_count": 1,
   "metadata": {
    "collapsed": true
   },
   "outputs": [],
   "source": [
    "import json\n",
    "import pandas as pd\n",
    "import numpy as np"
   ]
  },
  {
   "cell_type": "markdown",
   "source": [
    "Lecture du .csv"
   ],
   "metadata": {
    "collapsed": false
   }
  },
  {
   "cell_type": "code",
   "execution_count": 2,
   "outputs": [],
   "source": [
    "chantier = pd.read_csv('./csv_file/chantiers-a-paris.csv', delimiter=';')"
   ],
   "metadata": {
    "collapsed": false
   }
  },
  {
   "cell_type": "code",
   "execution_count": 3,
   "outputs": [
    {
     "data": {
      "text/plain": "  Référence Chantier Code postal arrondissement - Commune  \\\n0           EC262569                                75008   \n1           EC267934                                75015   \n2           EC268310                                75006   \n3           EC268626                                  NaN   \n4           EC286541                                75005   \n\n  Date début du chantier Date fin du chantier  \\\n0             2022-02-28           2024-04-30   \n1             2022-06-06           2023-09-30   \n2             2022-04-01           2023-05-15   \n3             2022-02-14           2023-06-16   \n4             2022-12-19           2023-05-12   \n\n                           Responsable du chantier  \\\n0                     Tiers (travaux sur bâtiment)   \n1  Opérateurs de réseau (gaz-électricité-RATP-etc)   \n2                     Tiers (travaux sur bâtiment)   \n3                     Tiers (travaux sur bâtiment)   \n4                     Tiers (travaux sur bâtiment)   \n\n                     Maîtrise d'ouvrage principale  Surface (m2)  \\\n0  Propriétés - Co-propriétés publiques et privées        144.42   \n1                                             CPCU         94.88   \n2  Propriétés - Co-propriétés publiques et privées        164.77   \n3  Propriétés - Co-propriétés publiques et privées          0.96   \n4  Propriétés - Co-propriétés publiques et privées          7.18   \n\n               Synthèse - Nature du chantier  \\\n0  Construction ou réhabilitation d'immeuble   \n1     Travaux sur réseau de chauffage urbain   \n2  Construction ou réhabilitation d'immeuble   \n3  Construction ou réhabilitation d'immeuble   \n4  Construction ou réhabilitation d'immeuble   \n\n          Encombrement espace public                 Impact stationnement  \\\n0                   EMPRISE_TROTTOIR                                  NaN   \n1  EMPRISE_CHAUSSEE,EMPRISE_TROTTOIR                                  NaN   \n2  EMPRISE_CHAUSSEE,EMPRISE_TROTTOIR  STATIONNEMENT_PAYANT,ZONE_LIVRAISON   \n3                   EMPRISE_CHAUSSEE                                  NaN   \n4                   EMPRISE_TROTTOIR                                  NaN   \n\n   Identifiant demande CITE  Identifiant Chantier CITE  \\\n0                    534314                     172512   \n1                    577778                     178217   \n2                    569382                     176946   \n3                    579401                     178537   \n4                    655170                     189925   \n\n                                           geo_shape  \\\n0  {\"coordinates\": [[[2.3002816159215382, 48.8717...   \n1  {\"coordinates\": [[[2.292899247699561, 48.85604...   \n2  {\"coordinates\": [[[2.32580213112853, 48.847082...   \n3  {\"coordinates\": [[[2.384292595886623, 48.82593...   \n4  {\"coordinates\": [[[2.344365865727618, 48.84455...   \n\n                             geo_point_2d  \n0    48.87171473163943, 2.300472796020154  \n1   48.85610765531542, 2.2929003924589715  \n2  48.846983726393866, 2.3259329706698515  \n3   48.825931811335515, 2.384302128015279  \n4   48.84454136424176, 2.3444310393485357  ",
      "text/html": "<div>\n<style scoped>\n    .dataframe tbody tr th:only-of-type {\n        vertical-align: middle;\n    }\n\n    .dataframe tbody tr th {\n        vertical-align: top;\n    }\n\n    .dataframe thead th {\n        text-align: right;\n    }\n</style>\n<table border=\"1\" class=\"dataframe\">\n  <thead>\n    <tr style=\"text-align: right;\">\n      <th></th>\n      <th>Référence Chantier</th>\n      <th>Code postal arrondissement - Commune</th>\n      <th>Date début du chantier</th>\n      <th>Date fin du chantier</th>\n      <th>Responsable du chantier</th>\n      <th>Maîtrise d'ouvrage principale</th>\n      <th>Surface (m2)</th>\n      <th>Synthèse - Nature du chantier</th>\n      <th>Encombrement espace public</th>\n      <th>Impact stationnement</th>\n      <th>Identifiant demande CITE</th>\n      <th>Identifiant Chantier CITE</th>\n      <th>geo_shape</th>\n      <th>geo_point_2d</th>\n    </tr>\n  </thead>\n  <tbody>\n    <tr>\n      <th>0</th>\n      <td>EC262569</td>\n      <td>75008</td>\n      <td>2022-02-28</td>\n      <td>2024-04-30</td>\n      <td>Tiers (travaux sur bâtiment)</td>\n      <td>Propriétés - Co-propriétés publiques et privées</td>\n      <td>144.42</td>\n      <td>Construction ou réhabilitation d'immeuble</td>\n      <td>EMPRISE_TROTTOIR</td>\n      <td>NaN</td>\n      <td>534314</td>\n      <td>172512</td>\n      <td>{\"coordinates\": [[[2.3002816159215382, 48.8717...</td>\n      <td>48.87171473163943, 2.300472796020154</td>\n    </tr>\n    <tr>\n      <th>1</th>\n      <td>EC267934</td>\n      <td>75015</td>\n      <td>2022-06-06</td>\n      <td>2023-09-30</td>\n      <td>Opérateurs de réseau (gaz-électricité-RATP-etc)</td>\n      <td>CPCU</td>\n      <td>94.88</td>\n      <td>Travaux sur réseau de chauffage urbain</td>\n      <td>EMPRISE_CHAUSSEE,EMPRISE_TROTTOIR</td>\n      <td>NaN</td>\n      <td>577778</td>\n      <td>178217</td>\n      <td>{\"coordinates\": [[[2.292899247699561, 48.85604...</td>\n      <td>48.85610765531542, 2.2929003924589715</td>\n    </tr>\n    <tr>\n      <th>2</th>\n      <td>EC268310</td>\n      <td>75006</td>\n      <td>2022-04-01</td>\n      <td>2023-05-15</td>\n      <td>Tiers (travaux sur bâtiment)</td>\n      <td>Propriétés - Co-propriétés publiques et privées</td>\n      <td>164.77</td>\n      <td>Construction ou réhabilitation d'immeuble</td>\n      <td>EMPRISE_CHAUSSEE,EMPRISE_TROTTOIR</td>\n      <td>STATIONNEMENT_PAYANT,ZONE_LIVRAISON</td>\n      <td>569382</td>\n      <td>176946</td>\n      <td>{\"coordinates\": [[[2.32580213112853, 48.847082...</td>\n      <td>48.846983726393866, 2.3259329706698515</td>\n    </tr>\n    <tr>\n      <th>3</th>\n      <td>EC268626</td>\n      <td>NaN</td>\n      <td>2022-02-14</td>\n      <td>2023-06-16</td>\n      <td>Tiers (travaux sur bâtiment)</td>\n      <td>Propriétés - Co-propriétés publiques et privées</td>\n      <td>0.96</td>\n      <td>Construction ou réhabilitation d'immeuble</td>\n      <td>EMPRISE_CHAUSSEE</td>\n      <td>NaN</td>\n      <td>579401</td>\n      <td>178537</td>\n      <td>{\"coordinates\": [[[2.384292595886623, 48.82593...</td>\n      <td>48.825931811335515, 2.384302128015279</td>\n    </tr>\n    <tr>\n      <th>4</th>\n      <td>EC286541</td>\n      <td>75005</td>\n      <td>2022-12-19</td>\n      <td>2023-05-12</td>\n      <td>Tiers (travaux sur bâtiment)</td>\n      <td>Propriétés - Co-propriétés publiques et privées</td>\n      <td>7.18</td>\n      <td>Construction ou réhabilitation d'immeuble</td>\n      <td>EMPRISE_TROTTOIR</td>\n      <td>NaN</td>\n      <td>655170</td>\n      <td>189925</td>\n      <td>{\"coordinates\": [[[2.344365865727618, 48.84455...</td>\n      <td>48.84454136424176, 2.3444310393485357</td>\n    </tr>\n  </tbody>\n</table>\n</div>"
     },
     "execution_count": 3,
     "metadata": {},
     "output_type": "execute_result"
    }
   ],
   "source": [
    "chantier.head()"
   ],
   "metadata": {
    "collapsed": false
   }
  },
  {
   "cell_type": "markdown",
   "source": [
    "### Extraction de la donnée :\n",
    "On cherche ici obtenir la forme géométrique du chantier."
   ],
   "metadata": {
    "collapsed": false
   }
  },
  {
   "cell_type": "code",
   "execution_count": 4,
   "outputs": [],
   "source": [
    "def to_list(df):\n",
    "\tlist_type = []\n",
    "\tfor i in range(6982):\n",
    "\t\ttry :\n",
    "\t\t\tgeo = df[i]\n",
    "\t\t\tgeo = json.loads(geo)   # utilisation de json pour lire la string comme un dict\n",
    "\t\t\tlist_type.append(geo)\n",
    "\t\texcept Exception as e:\n",
    "\t\t\tlist_type.append(np.NaN)    # en cas d'exception on ajoute nan\n",
    "\t\t\tprint(e)\n",
    "\n",
    "\treturn list_type"
   ],
   "metadata": {
    "collapsed": false
   }
  },
  {
   "cell_type": "code",
   "execution_count": 6,
   "outputs": [],
   "source": [
    "def get_shape(list):\n",
    "\tpolygones = {3:\"triangle\", 4:\"quadrilatère\", 5:\"pentagone\", 6:\"hexagone\", 7:\"heptagone\", 8:\"octogone\", 9:\"nonagone\", 10:\"décagone\", 11:\"hendécagone\", 12:\"dodécagone\"}\n",
    "\n",
    "\tnb_err = 0\n",
    "\n",
    "\tfor i, geo in enumerate(list):\n",
    "\t\ttry :\n",
    "\t\t\tnb_cotes = len(geo['coordinates'][0])\n",
    "\t\t\tif nb_cotes in polygones.keys():    # cherche parmi les clés\n",
    "\t\t\t\tlist[i] = polygones[nb_cotes]\n",
    "\t\t\telif geo == np.NaN:                 # si c'est deja nan car to_list ne peut pas convertir\n",
    "\t\t\t\tnb_err +=1\n",
    "\t\t\t\tcontinue\n",
    "\t\t\telse :                              # si plus de 12 cotés\n",
    "\t\t\t\tlist[i] = 'autre'\n",
    "\t\texcept Exception as e:                  # si on catch une exception\n",
    "\t\t\tlist[i] = np.NaN\n",
    "\t\t\tprint(e)\n",
    "\t\t\tnb_err +=1\n",
    "\n",
    "\tprint(f\"le nombre d'err est {nb_err}\")\n",
    "\treturn list"
   ],
   "metadata": {
    "collapsed": false
   }
  },
  {
   "cell_type": "markdown",
   "source": [
    "***"
   ],
   "metadata": {
    "collapsed": false
   }
  },
  {
   "cell_type": "code",
   "execution_count": 7,
   "outputs": [
    {
     "name": "stdout",
     "output_type": "stream",
     "text": [
      "the JSON object must be str, bytes or bytearray, not float\n",
      "the JSON object must be str, bytes or bytearray, not float\n",
      "the JSON object must be str, bytes or bytearray, not float\n",
      "the JSON object must be str, bytes or bytearray, not float\n",
      "the JSON object must be str, bytes or bytearray, not float\n",
      "the JSON object must be str, bytes or bytearray, not float\n",
      "the JSON object must be str, bytes or bytearray, not float\n",
      "the JSON object must be str, bytes or bytearray, not float\n",
      "the JSON object must be str, bytes or bytearray, not float\n",
      "the JSON object must be str, bytes or bytearray, not float\n",
      "the JSON object must be str, bytes or bytearray, not float\n",
      "'float' object is not subscriptable\n",
      "'float' object is not subscriptable\n",
      "'float' object is not subscriptable\n",
      "'float' object is not subscriptable\n",
      "'float' object is not subscriptable\n",
      "'float' object is not subscriptable\n",
      "'float' object is not subscriptable\n",
      "'float' object is not subscriptable\n",
      "'float' object is not subscriptable\n",
      "'float' object is not subscriptable\n",
      "'float' object is not subscriptable\n",
      "le nombre d'err est 11\n"
     ]
    }
   ],
   "source": [
    "list_geo_shape = to_list(chantier['geo_shape'])\n",
    "new_column = get_shape(list_geo_shape)\n",
    "chantier['forme_geo'] = new_column"
   ],
   "metadata": {
    "collapsed": false
   }
  },
  {
   "cell_type": "markdown",
   "source": [
    "### Analyse des erreurs et des distributions des valeurs du dataset"
   ],
   "metadata": {
    "collapsed": false
   }
  },
  {
   "cell_type": "code",
   "execution_count": 10,
   "outputs": [
    {
     "data": {
      "text/plain": "pentagone       4894\nheptagone        523\nautre            433\nhexagone         347\nnonagone         266\noctogone         189\ndécagone         106\nhendécagone      104\ndodécagone        69\nquadrilatère      40\nName: forme_geo, dtype: int64"
     },
     "execution_count": 10,
     "metadata": {},
     "output_type": "execute_result"
    }
   ],
   "source": [
    "chantier['forme_geo'].value_counts()"
   ],
   "metadata": {
    "collapsed": false
   }
  },
  {
   "cell_type": "code",
   "execution_count": 15,
   "outputs": [
    {
     "data": {
      "text/plain": "count          6971\nunique           10\ntop       pentagone\nfreq           4894\nName: forme_geo, dtype: object"
     },
     "execution_count": 15,
     "metadata": {},
     "output_type": "execute_result"
    }
   ],
   "source": [
    "chantier['forme_geo'].describe()"
   ],
   "metadata": {
    "collapsed": false
   }
  },
  {
   "cell_type": "markdown",
   "source": [
    "***\n",
    "### Export du dataset en .csv :\n",
    "Le fichier va être exporté dans le même dossier que `chantier.ipybn`"
   ],
   "metadata": {
    "collapsed": false
   }
  },
  {
   "cell_type": "code",
   "execution_count": 16,
   "outputs": [],
   "source": [
    "from pathlib import Path\n",
    "filepath = Path('chantier_exp.csv')\n",
    "filepath.parent.mkdir(parents=True, exist_ok=True)\n",
    "chantier.to_csv(filepath)"
   ],
   "metadata": {
    "collapsed": false
   }
  }
 ],
 "metadata": {
  "kernelspec": {
   "display_name": "Python 3",
   "language": "python",
   "name": "python3"
  },
  "language_info": {
   "codemirror_mode": {
    "name": "ipython",
    "version": 2
   },
   "file_extension": ".py",
   "mimetype": "text/x-python",
   "name": "python",
   "nbconvert_exporter": "python",
   "pygments_lexer": "ipython2",
   "version": "2.7.6"
  }
 },
 "nbformat": 4,
 "nbformat_minor": 0
}
